{
 "cells": [
  {
   "cell_type": "markdown",
   "id": "205d4830-576b-4c10-ac78-2220acf1cd9b",
   "metadata": {},
   "source": [
    "# Sleep\n",
    "### Deleja-Hotko Julian, Nou Sara, Zivojinovic Andrej"
   ]
  }
 ],
 "metadata": {
  "kernelspec": {
   "display_name": "Python 3",
   "language": "python",
   "name": "python3"
  },
  "language_info": {
   "codemirror_mode": {
    "name": "ipython",
    "version": 3
   },
   "file_extension": ".py",
   "mimetype": "text/x-python",
   "name": "python",
   "nbconvert_exporter": "python",
   "pygments_lexer": "ipython3",
   "version": "3.8.8"
  }
 },
 "nbformat": 4,
 "nbformat_minor": 5
}
