{
 "cells": [
  {
   "cell_type": "markdown",
   "id": "6501c5cd-7bb2-4ae4-9e2c-3c1974cdcbb4",
   "metadata": {},
   "source": [
    "## Proposal for BDINF Project:\n",
    "# Sleep\n",
    "### Deleja-Hotko Julian, Nou Sara, Zivojinovic Andrej"
   ]
  },
  {
   "cell_type": "markdown",
   "id": "71c06fdb-99c1-484f-97c9-d55a084bc977",
   "metadata": {},
   "source": [
    "## 1. Data sources:"
   ]
  },
  {
   "cell_type": "markdown",
   "id": "b7db1097-f07a-4306-913a-5072bb16bed0",
   "metadata": {},
   "source": [
    "For our data, we will mainly use the dataset \"Time Americans spend sleeping\" from Makeover Monday on https://data.world/makeovermonday/2019w23 , which in itself is an extract from the much more comprehensive American Time Use Study https://www.bls.gov/tus/database.htm from 2017."
   ]
  },
  {
   "cell_type": "markdown",
   "id": "1762dbed-b6f3-4b39-92ad-c7053a86038e",
   "metadata": {},
   "source": [
    "## 2. Planned data storage"
   ]
  },
  {
   "cell_type": "markdown",
   "id": "4b620b6b-1d94-41e3-b84c-545d030e09db",
   "metadata": {},
   "source": [
    "In order to store all of our data in an easily accessible way, we will use a MongoDB Database. We chose this technology because it is easy to change data structure later on, for example if we want to add a second data source, because it is generally well-suited for Big Data Projects, and because some of us are already somewhat familiar with MongoDB Databases, allowing us to use the databsae much more efficiently."
   ]
  },
  {
   "cell_type": "markdown",
   "id": "2fdd105d-de04-4c17-a979-06a95b3e94db",
   "metadata": {},
   "source": [
    "## 3. planned procedure"
   ]
  },
  {
   "cell_type": "markdown",
   "id": "299a4825-41aa-4921-8e3a-7a5c645741db",
   "metadata": {},
   "source": [
    "1. find a topic for the project\n",
    "2. look for data sources supporting our topic\n",
    "3. research and find a nosql DB that fits the theme of our project\n",
    "4. creat a git repo for better group communication\n",
    "5. analyze our data and implement visualizations in our notebook\n",
    "6. interpret our results"
   ]
  },
  {
   "cell_type": "markdown",
   "id": "32db9e14-5db0-4f8c-9576-79a0b395634d",
   "metadata": {},
   "source": [
    "## 4. expected Output"
   ]
  },
  {
   "cell_type": "markdown",
   "id": "393ae82f-e099-48a9-b1d9-0677dc614cb3",
   "metadata": {},
   "source": [
    "we hope to describe how sleep time might correlate to certain factors like age, and how they might change over time in different groups of respondents"
   ]
  },
  {
   "cell_type": "code",
   "execution_count": null,
   "id": "18abb7d6-7f1f-400c-bb35-83552a531638",
   "metadata": {},
   "outputs": [],
   "source": []
  }
 ],
 "metadata": {
  "kernelspec": {
   "display_name": "Python 3",
   "language": "python",
   "name": "python3"
  },
  "language_info": {
   "codemirror_mode": {
    "name": "ipython",
    "version": 3
   },
   "file_extension": ".py",
   "mimetype": "text/x-python",
   "name": "python",
   "nbconvert_exporter": "python",
   "pygments_lexer": "ipython3",
   "version": "3.8.8"
  }
 },
 "nbformat": 4,
 "nbformat_minor": 5
}
